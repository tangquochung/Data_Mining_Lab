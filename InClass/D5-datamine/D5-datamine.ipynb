{
 "cells": [
  {
   "cell_type": "markdown",
   "id": "d77f7e73",
   "metadata": {},
   "source": [
    "# Jester dataset: https://goldberg.berkeley.edu/jester-data/"
   ]
  },
  {
   "cell_type": "code",
   "execution_count": 1,
   "id": "105d7dd1",
   "metadata": {},
   "outputs": [],
   "source": [
    "import pandas as pd\n",
    "import requests\n",
    "import numpy as np"
   ]
  },
  {
   "cell_type": "code",
   "execution_count": 2,
   "id": "793c5800",
   "metadata": {},
   "outputs": [],
   "source": [
    "#URL to download Jester dataset\n",
    "url = 'https://goldberg.berkeley.edu/jester-data/jester-data-1.zip'\n",
    "\n",
    "#Send request to download URL\n",
    "response = requests.get(url)\n",
    "\n",
    "#Write contents of response to a file\n",
    "with open('jester_dataset.zip', 'wb') as f:\n",
    "    f.write(response.content)\n",
    "\n",
    "#Extract dataset from the downloaded zip file\n",
    "import zipfile\n",
    "with zipfile.ZipFile('jester_dataset.zip', 'r') as zip_ref:\n",
    "    zip_ref.extractall('jester_dataset')"
   ]
  },
  {
   "cell_type": "code",
   "execution_count": 3,
   "id": "bb4ee0d4",
   "metadata": {},
   "outputs": [
    {
     "name": "stdout",
     "output_type": "stream",
     "text": [
      "       Joke1  Joke2  Joke3  Joke4  Joke5  Joke6  Joke7  Joke8  Joke9  Joke10  \\\n",
      "17676  99.00  99.00  99.00  99.00  -3.50  99.00  -0.24   7.82  99.00    2.48   \n",
      "9252   -1.70  -1.12   0.19  -0.34   1.46   0.78  -0.15   0.49  -0.83    1.26   \n",
      "11401  99.00   4.95  99.00  99.00   5.19  -5.24   7.04  -6.65  99.00   -7.43   \n",
      "13512   0.68   2.96   3.01  -1.94   2.57   1.41  -2.91   1.50   3.74    2.91   \n",
      "1675   -0.29  -1.50   0.34   8.93   8.64   9.08  -0.05  -1.26  -3.98    3.88   \n",
      "\n",
      "       ...  Joke91  Joke92  Joke93  Joke94  Joke95  Joke96  Joke97  Joke98  \\\n",
      "17676  ...    6.41   99.00   99.00   99.00   99.00   99.00    3.79   99.00   \n",
      "9252   ...    0.83    0.53   -0.10    0.34    1.12    0.87    3.01    0.49   \n",
      "11401  ...   99.00   99.00   99.00   99.00   99.00   99.00   99.00   99.00   \n",
      "13512  ...   99.00   99.00   99.00   99.00   99.00    3.06   99.00   99.00   \n",
      "1675   ...    9.13    8.59    9.17    8.88    8.98    8.98    9.22    9.17   \n",
      "\n",
      "       Joke99  Joke100  \n",
      "17676   99.00    99.00  \n",
      "9252     1.75     1.26  \n",
      "11401   99.00    99.00  \n",
      "13512    1.02     2.38  \n",
      "1675     8.74     3.64  \n",
      "\n",
      "[5 rows x 100 columns]\n"
     ]
    }
   ],
   "source": [
    "#Load Jester dataset into Pandas DataFrame\n",
    "df = pd.read_excel('jester_dataset/jester-data-1.xls',header = None)\n",
    "df = df.sample(n = 2000, random_state = 42)\n",
    "\n",
    "#Drop the first columns (user IDs) as they are not needed for the analysis\n",
    "df = df.drop(columns = 0)\n",
    "\n",
    "#Rename the columns to make them more descriptive\n",
    "column_names = ['Joke{}'.format(i) for i in range(1, 101)]\n",
    "df.columns = column_names\n",
    "\n",
    "#Print the first few rows of the dataset to verify it was loaded correctly\n",
    "print(df.head(5))"
   ]
  },
  {
   "cell_type": "markdown",
   "id": "e689da68",
   "metadata": {},
   "source": [
    "# User-based Collaborative Filtering\n",
    "We can use KNN to find the K most similar users to a given user based on their ratings for items. We can then use the ratings of those K similar users to\n",
    "predict the rating of an item for the given user.\n",
    "The similarity between users or items is typically measured using a similarity metric such as cosine similarity or Pearson correlation. Onco the similarity\n",
    "scores are computed, the KNN algorithm selects the K users or items with the highest similarity scores and uses their ratings to make a prediction"
   ]
  },
  {
   "cell_type": "code",
   "execution_count": 4,
   "id": "529e41a8",
   "metadata": {
    "scrolled": true
   },
   "outputs": [
    {
     "name": "stdout",
     "output_type": "stream",
     "text": [
      "Requirement already satisfied: surprise in c:\\users\\asus\\anaconda3\\lib\\site-packages (0.1)\n",
      "Requirement already satisfied: scikit-surprise in c:\\users\\asus\\anaconda3\\lib\\site-packages (from surprise) (1.1.3)\n",
      "Requirement already satisfied: joblib>=1.0.0 in c:\\users\\asus\\anaconda3\\lib\\site-packages (from scikit-surprise->surprise) (1.2.0)\n",
      "Requirement already satisfied: numpy>=1.17.3 in c:\\users\\asus\\anaconda3\\lib\\site-packages (from scikit-surprise->surprise) (1.21.5)\n",
      "Requirement already satisfied: scipy>=1.3.2 in c:\\users\\asus\\anaconda3\\lib\\site-packages (from scikit-surprise->surprise) (1.9.1)\n"
     ]
    }
   ],
   "source": [
    "!pip install surprise"
   ]
  },
  {
   "cell_type": "code",
   "execution_count": 5,
   "id": "a82d55c7",
   "metadata": {},
   "outputs": [
    {
     "name": "stdout",
     "output_type": "stream",
     "text": [
      "Computing the cosine similarity matrix...\n",
      "Done computing similarity matrix.\n",
      "RMSE: 47.4618\n"
     ]
    },
    {
     "data": {
      "text/plain": [
       "47.46178515063383"
      ]
     },
     "execution_count": 5,
     "metadata": {},
     "output_type": "execute_result"
    }
   ],
   "source": [
    "from surprise import KNNWithMeans, Dataset, Reader\n",
    "from surprise.model_selection import train_test_split\n",
    "\n",
    "#load dataset into a Surprise Dataset object\n",
    "reader = Reader(rating_scale=(-10,10))\n",
    "data = Dataset.load_from_df(df.stack().reset_index()\\\n",
    "                           .rename(columns={0:'rating','level_0':'user_id','level_1':'item_id'})\\\n",
    "                            [['user_id','item_id','rating']],reader)\n",
    "\n",
    "#Split dataset into training and test sets\n",
    "trainset, testset = train_test_split(data, test_size = 0.25)\n",
    "\n",
    "sim_options = {'name': 'cosine','user_based':True}\n",
    "model= KNNWithMeans(sim_options = sim_options)\n",
    "model.fit(trainset)\n",
    "\n",
    "#Use the model to make preditions on the test set\n",
    "predictions = model.test(testset)\n",
    "\n",
    "#Evaluate the accuracy of the model using RMSE\n",
    "from surprise import accuracy\n",
    "accuracy.rmse(predictions)"
   ]
  },
  {
   "cell_type": "code",
   "execution_count": 8,
   "id": "777ad784",
   "metadata": {},
   "outputs": [
    {
     "name": "stdout",
     "output_type": "stream",
     "text": [
      "Computing the cosine similarity matrix...\n",
      "Done computing similarity matrix.\n",
      "RMSE: 47.8358\n"
     ]
    },
    {
     "data": {
      "text/plain": [
       "47.83578222632571"
      ]
     },
     "execution_count": 8,
     "metadata": {},
     "output_type": "execute_result"
    }
   ],
   "source": [
    "#Create a Item-based Collaborative Filering model and fit it to the training set\n",
    "sim_options = {'name': 'cosine', 'user_based': False}\n",
    "model = KNNWithMeans(sim_options = sim_options)\n",
    "model.fit(trainset)\n",
    "\n",
    "#Use the model to make predictions on the test set\n",
    "predictions = model.test(testset)\n",
    "\n",
    "#Evaluate the accuracy of the model using RMSE\n",
    "from surprise import accuracy\n",
    "accuracy.rmse(predictions)"
   ]
  },
  {
   "cell_type": "markdown",
   "id": "a580bcc0",
   "metadata": {},
   "source": [
    "# Matrix Factorization"
   ]
  },
  {
   "cell_type": "code",
   "execution_count": null,
   "id": "c5f35102",
   "metadata": {},
   "outputs": [],
   "source": [
    "from surprise import SVD\n",
    "\n",
    "#Set the number of latent factors for the matrix factorization"
   ]
  }
 ],
 "metadata": {
  "kernelspec": {
   "display_name": "Python 3 (ipykernel)",
   "language": "python",
   "name": "python3"
  },
  "language_info": {
   "codemirror_mode": {
    "name": "ipython",
    "version": 3
   },
   "file_extension": ".py",
   "mimetype": "text/x-python",
   "name": "python",
   "nbconvert_exporter": "python",
   "pygments_lexer": "ipython3",
   "version": "3.9.13"
  }
 },
 "nbformat": 4,
 "nbformat_minor": 5
}
